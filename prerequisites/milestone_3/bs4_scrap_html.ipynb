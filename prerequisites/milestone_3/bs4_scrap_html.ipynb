{
 "cells": [
  {
   "cell_type": "markdown",
   "metadata": {},
   "source": [
    "# HTML Web Scraping \n",
    "\n",
    "## Extracting HTML code from a web the simple way.\n",
    "To import the components of an HTML page from the web, you \n",
    "can do the following:\n",
    "\n",
    "\n",
    "\n"
   ]
  },
  {
   "cell_type": "code",
   "execution_count": 8,
   "metadata": {},
   "outputs": [
    {
     "name": "stdout",
     "output_type": "stream",
     "text": [
      "b'<!DOCTYPE html>\\n<html lang=\"en\">\\n<head>\\n  <meta charset=\"UTF-8\">\\n  <meta name=\"viewport\" content=\"width=device-width, initial-scale=1.0\">\\n  <meta http-equiv=\"X-UA-Compatible\" content=\"ie=edge\">\\n  <title>Team Games</title>\\n\\n  <!-- CSS Stylesheets -->\\n  <link rel=\"stylesheet\" href=\"https://stackpath.bootstrapcdn.com/bootstrap/4.4.1/css/bootstrap.min.css\" integrity=\"sha384-Vkoo8x4CGsO3+Hhxv8T/Q5PaXtkKtu6ug5TOeNV6gBiFeWPGFN9MuhOf23Q9Ifjh\" crossorigin=\"anonymous\">\\n  <link rel=\"stylesheet\" href=\"style.css\">\\n\\n  <!-- bootstrap script -->\\n  <script src=\"https://code.jquery.com/jquery-3.4.1.slim.min.js\" integrity=\"sha384-J6qa4849blE2+poT4WnyKhv5vZF5SrPo0iEjwBvKU7imGFAV0wwj1yYfoRSJoZ+n\" crossorigin=\"anonymous\"></script>\\n  <script src=\"https://cdn.jsdelivr.net/npm/popper.js@1.16.0/dist/umd/popper.min.js\" integrity=\"sha384-Q6E9RHvbIyZFJoft+2mJbHaEWldlvI9IOYy5n3zV9zzTtmI3UksdQRVvoxMfooAo\" crossorigin=\"anonymous\"></script>\\n  <script src=\"https://stackpath.bootstrapcdn.com/bootstrap/4.4.1/js/bootstrap.min.js\" integrity=\"sha384-wfSDF2E50Y2D1uUdj0O3uMBJnjuUD4Ih7YwaYd1iqfktj0Uod8GCExl3Og8ifwB6\" crossorigin=\"anonymous\"></script>\\n\\n  <!--Embeded Google Font-->\\n  <link href=\"https://fonts.googleapis.com/css?family=Montserrat|Ubuntu&display=swap\" rel=\"stylesheet\">\\n\\n  <!-- font awesome - imported icons -->\\n  <script src=\"https://kit.fontawesome.com/c59110d70d.js\" crossorigin=\"anonymous\"></script>\\n\\n</head>\\n<body>\\n\\n  <div class=\"header-section\"></div>\\n  <header class=\"header-class\" role=\"banner\">\\n\\n    <h1 class=\"header-title\">Team Games</h1>\\n    <h1 class=\"header-subtitle\">Interactive and fun games for teams</h1>\\n  </header>\\n<main>\\n  <img class=\"image-logo\" src=\"images/team_games_logo.png\" alt=\"team-games-logo\">\\n  <p class=\"view-tip\">\\xf0\\x9f\\x93\\xa2 Rotate phone to Landscape for a better view </p>\\n  <br>\\n  <h3>About:</h3>\\n  <h4>In this simple page, you will find team games you can play on a trip or when you hangout with your friends...</h4>\\n  <br>\\n  <p>Ever went on a trip and got bored of chin wagging? Cool! This website is for you \\xf0\\x9f\\xa4\\xa9</p>\\n  <p>Find fun games you can play with your team below!</p>\\n  <br>\\n  <br>\\n  <section class=\"game-section\">\\n\\n\\n  <h4>Game #1: Word Chain</h4>\\n  <img class=\"image-class\" src=\"images/word-chain-logo.png\" alt=\"word-chain logo\">\\n\\n  <p><em><strong>Number of players:</strong> </em> as many as you like</p>\\n  <p><em><strong>Skills needed:</strong> </em> wide range of words and vocabularies | fast retrieve of these words / vocabularies\\n</p>\\n  <p><em><strong>Description / rules:</strong></em>\\n    <ul>\\n  <li>team sits in a circle (or any desired shape); </li>\\n  <li>first player says a word at random;</li>\\n  <li>next person in turn (clockwise rotation) has to find a word that starts with the last two letters with which the previous was ended. I.e. if person A says \\xe2\\x80\\x9ckite\\xe2\\x80\\x9d, person B has to say \\xe2\\x80\\x9cteacher\\xe2\\x80\\x9d and so on.</li>\\n  <li>Every player has three chances before they leave the game.</li>\\n</ul></p>\\n<hr>\\n</section>\\n\\n<section class=\"game-section\">\\n  <h4>Game #2: The 7 Stones</h4>\\n  <img class=\"image-class\" src=\"images/7-stones.png\" alt=\"7-stones-logo\">\\n  <p><em><strong>Number of players:</strong> </em> as many as you like! Even is preferred.\\n</p>\\n  <p><em><strong>Skills needed:</strong> </em> good aiming | flexibility in movement\\n</p>\\n  <p><em><strong>Description / rules:</strong></em>\\n  <ul>\\n    <li>players split into two teams, a member of the first team aims at the 7 stacked stones and hits them from a distance of 15 meters.</li>\\n    <li>if the first hit is a miss, the player will have one more chance. Otherwise, it\\xe2\\x80\\x99s the other team\\xe2\\x80\\x99s turn.</li>\\n    <li>if the  playing team hits the ball, they have to try to build them ALL again.</li>\\n    <li>The other team will be hunting with a ball the team who is trying to build the stack. Hit in the head does not kill the player, if the ball hits other parts of the body, the player is out.</li>\\n    <li>The game ends by either re-building the stack in full or killing all the players in the playing team.</li>\\n  </ul></p>\\n  <hr>\\n\\n</section>\\n\\n<section class=\"game-section\">\\n<h4>Game #3: Codenames</h4>\\n<img class=\"image-class\" src=\"images/codenames.png\" alt=\"codenames-logo\">\\n<p><em><strong>Number of players:</strong> </em> 4 to 8\\n</p>\\n<p><em><strong>Skills needed:</strong> </em>  knowledge of different things in life, memory, ability to conceal information, good communication\\n</p>\\n<p><em><strong>Description / rules:</strong></em>\\n<br>\\n<br>\\nCodenames is a 2015 card game for 4\\xe2\\x80\\x938 players designed by Vlaada Chv\\xc3\\xa1til and published by Czech Games Edition. Two teams compete by each having a \"spymaster\" give one-word clues that can point to multiple words on the board. The other players on the team attempt to guess their team\\'s words while avoiding the words of the other team. In a variant with 2\\xe2\\x80\\x933 players, one spymaster gives clues to the other player or players. Find out more <a href=\"https://en.wikipedia.org/wiki/Codenames_(board_game)\">here</a>\\n</p>\\n<hr>\\n</section>\\n<footer class=\"site-footer\">\\n  <span>\\xc2\\xa92020 Team Games</span>\\n</footer>\\n\\n\\n</main>\\n\\n</body>\\n</html>\\n'\n"
     ]
    }
   ],
   "source": [
    "import requests\n",
    "response = requests.get(\"https://eisen9.github.io/teamgames/\")\n",
    "print(response.content)\n"
   ]
  },
  {
   "cell_type": "markdown",
   "metadata": {},
   "source": [
    "## Scraping using BeautifulSoup\n",
    "\n",
    "[BeautifulSoup](https://beautiful-soup-4.readthedocs.io/en/latest/)"
   ]
  },
  {
   "cell_type": "code",
   "execution_count": 9,
   "metadata": {},
   "outputs": [],
   "source": [
    "from bs4 import BeautifulSoup\n",
    "html = response.content\n",
    "html = BeautifulSoup(html, \"html.parser\") # parse the HTML as a string \n",
    "# print(html.prettify()) # print the parsed data of html\n",
    "\n",
    "products = html.find_all('tr')[2:]\n",
    "for product in products:\n",
    "    print(product.prettify())\n",
    "    data = product.find_all('td')\n",
    "    print(data)\n",
    "    img = data.pop()\n",
    "    print(img)"
   ]
  },
  {
   "cell_type": "code",
   "execution_count": null,
   "metadata": {},
   "outputs": [],
   "source": [
    "for product in products:\n",
    "    data = product.find_all('td')\n",
    "    img = data.pop()\n",
    "    img_src = img.img.attrs[\"src\"]\n",
    "    print(img_src)\n",
    "    \n",
    "    data = [feature.text for feature in data]\n",
    "    print(data)\n",
    "    title, description, price = data\n",
    "\n",
    "    product_data = {\n",
    "        \"name\": data,\n",
    "        \"description\": description,\n",
    "        \"price\": price\n",
    "    }"
   ]
  }
 ],
 "metadata": {
  "kernelspec": {
   "display_name": "Python 3.9.12 ('AiCore_Testing')",
   "language": "python",
   "name": "python3"
  },
  "language_info": {
   "codemirror_mode": {
    "name": "ipython",
    "version": 3
   },
   "file_extension": ".py",
   "mimetype": "text/x-python",
   "name": "python",
   "nbconvert_exporter": "python",
   "pygments_lexer": "ipython3",
   "version": "3.9.12"
  },
  "orig_nbformat": 4,
  "vscode": {
   "interpreter": {
    "hash": "a3c31baebe60106a56ff341025cd7f91b6e5664397ad521f5422210327a85acf"
   }
  }
 },
 "nbformat": 4,
 "nbformat_minor": 2
}
